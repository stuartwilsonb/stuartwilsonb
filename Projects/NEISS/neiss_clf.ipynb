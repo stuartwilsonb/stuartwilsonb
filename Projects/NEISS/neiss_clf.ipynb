{
 "cells": [
  {
   "cell_type": "code",
   "execution_count": 1,
   "source": [
    "import os\r\n",
    "import pandas as pd\r\n",
    "import numpy as np\r\n",
    "\r\n",
    "os.chdir(\"C:\\\\Users\\\\StuartWilson\\\\Documents\\\\Portfolio\\\\NEISS\")"
   ],
   "outputs": [],
   "metadata": {}
  },
  {
   "cell_type": "code",
   "execution_count": 2,
   "source": [
    "neiss = pd.read_csv('Data\\\\neiss.csv')\r\n",
    "neiss = neiss.sample(frac=1)\r\n",
    "print(neiss.shape)\r\n",
    "print(neiss.columns)"
   ],
   "outputs": [
    {
     "output_type": "stream",
     "name": "stderr",
     "text": [
      "c:\\Users\\StuartWilson\\Documents\\Portfolio\\NEISS\\Python\\.venv\\lib\\site-packages\\IPython\\core\\interactiveshell.py:3165: DtypeWarning: Columns (11,12,13,25) have mixed types.Specify dtype option on import or set low_memory=False.\n",
      "  has_raised = await self.run_ast_nodes(code_ast.body, cell_name,\n"
     ]
    },
    {
     "output_type": "stream",
     "name": "stdout",
     "text": [
      "(1841588, 27)\n",
      "Index(['Unnamed: 0', 'CPSC_Case_Number', 'Treatment_Date', 'Age', 'Sex',\n",
      "       'Race', 'Other_Race', 'Hispanic', 'Body_Part', 'Diagnosis',\n",
      "       'Other_Diagnosis', 'Body_Part_2', 'Diagnosis_2', 'Other_Diagnosis_2',\n",
      "       'Disposition', 'Location', 'Fire_Involvement', 'Alcohol', 'Drug',\n",
      "       'Narrative', 'Stratum', 'PSU', 'Weight', 'Product', 'Product_2',\n",
      "       'Product_3', 'Year'],\n",
      "      dtype='object')\n"
     ]
    }
   ],
   "metadata": {}
  },
  {
   "cell_type": "code",
   "execution_count": 3,
   "source": [
    "#show how many 'not recorded' in location column\r\n",
    "neiss['Location'].value_counts(normalize=True)"
   ],
   "outputs": [
    {
     "output_type": "execute_result",
     "data": {
      "text/plain": [
       "Home                             0.439636\n",
       "Not recorded                     0.283534\n",
       "Place of recreation or sports    0.130473\n",
       "Other public property            0.070278\n",
       "School/Daycare                   0.053731\n",
       "Street or highway                0.021715\n",
       "Farm/ranch                       0.000347\n",
       "Mobile/Manufactured home         0.000212\n",
       "Industrial                       0.000074\n",
       "Name: Location, dtype: float64"
      ]
     },
     "metadata": {},
     "execution_count": 3
    }
   ],
   "metadata": {}
  },
  {
   "cell_type": "code",
   "execution_count": 4,
   "source": [
    "neiss['Narrative'].head(3)\r\n"
   ],
   "outputs": [
    {
     "output_type": "execute_result",
     "data": {
      "text/plain": [
       "479165     15YOM PT COMPLAINING OF INJURING FOREHEAD AT F...\n",
       "572400     15 YO F C/O CHEST PAIN FOR 1 DAY STATES SHE WA...\n",
       "1642097    33 YOM WAS USING A SAW AT HOME WHEN IT SLIPPED...\n",
       "Name: Narrative, dtype: object"
      ]
     },
     "metadata": {},
     "execution_count": 4
    }
   ],
   "metadata": {}
  },
  {
   "cell_type": "code",
   "execution_count": 5,
   "source": [
    "#remove unnecessary columns\r\n",
    "neiss_clf = neiss[['Location', 'Narrative']]\r\n",
    "neiss_clf.head()"
   ],
   "outputs": [
    {
     "output_type": "execute_result",
     "data": {
      "text/plain": [
       "                              Location  \\\n",
       "479165   Place of recreation or sports   \n",
       "572400                    Not recorded   \n",
       "1642097                           Home   \n",
       "663151                    Not recorded   \n",
       "1214985                   Not recorded   \n",
       "\n",
       "                                                 Narrative  \n",
       "479165   15YOM PT COMPLAINING OF INJURING FOREHEAD AT F...  \n",
       "572400   15 YO F C/O CHEST PAIN FOR 1 DAY STATES SHE WA...  \n",
       "1642097  33 YOM WAS USING A SAW AT HOME WHEN IT SLIPPED...  \n",
       "663151   57YOM TRIPPED & FELL FROM 1 STEP TODAY DX: RIG...  \n",
       "1214985  14YOF HAD IN TOENAIL ATTEMPT TO CUT/TRIM (IMPL...  "
      ],
      "text/html": [
       "<div>\n",
       "<style scoped>\n",
       "    .dataframe tbody tr th:only-of-type {\n",
       "        vertical-align: middle;\n",
       "    }\n",
       "\n",
       "    .dataframe tbody tr th {\n",
       "        vertical-align: top;\n",
       "    }\n",
       "\n",
       "    .dataframe thead th {\n",
       "        text-align: right;\n",
       "    }\n",
       "</style>\n",
       "<table border=\"1\" class=\"dataframe\">\n",
       "  <thead>\n",
       "    <tr style=\"text-align: right;\">\n",
       "      <th></th>\n",
       "      <th>Location</th>\n",
       "      <th>Narrative</th>\n",
       "    </tr>\n",
       "  </thead>\n",
       "  <tbody>\n",
       "    <tr>\n",
       "      <th>479165</th>\n",
       "      <td>Place of recreation or sports</td>\n",
       "      <td>15YOM PT COMPLAINING OF INJURING FOREHEAD AT F...</td>\n",
       "    </tr>\n",
       "    <tr>\n",
       "      <th>572400</th>\n",
       "      <td>Not recorded</td>\n",
       "      <td>15 YO F C/O CHEST PAIN FOR 1 DAY STATES SHE WA...</td>\n",
       "    </tr>\n",
       "    <tr>\n",
       "      <th>1642097</th>\n",
       "      <td>Home</td>\n",
       "      <td>33 YOM WAS USING A SAW AT HOME WHEN IT SLIPPED...</td>\n",
       "    </tr>\n",
       "    <tr>\n",
       "      <th>663151</th>\n",
       "      <td>Not recorded</td>\n",
       "      <td>57YOM TRIPPED &amp; FELL FROM 1 STEP TODAY DX: RIG...</td>\n",
       "    </tr>\n",
       "    <tr>\n",
       "      <th>1214985</th>\n",
       "      <td>Not recorded</td>\n",
       "      <td>14YOF HAD IN TOENAIL ATTEMPT TO CUT/TRIM (IMPL...</td>\n",
       "    </tr>\n",
       "  </tbody>\n",
       "</table>\n",
       "</div>"
      ]
     },
     "metadata": {},
     "execution_count": 5
    }
   ],
   "metadata": {}
  },
  {
   "cell_type": "code",
   "execution_count": 6,
   "source": [
    "#show value counts for locations after removing 'not recorded'\r\n",
    "neiss_clf = neiss_clf.loc[~neiss['Location'].isin(['Not recorded', 'Farm/ranch',\r\n",
    "                                           'Mobile/Manufactured home', 'Industrial']) == True]\r\n"
   ],
   "outputs": [],
   "metadata": {}
  },
  {
   "cell_type": "code",
   "execution_count": 7,
   "source": [
    "#create indicator variables for locations\r\n",
    "\r\n",
    "from sklearn.preprocessing import LabelEncoder\r\n",
    "\r\n",
    "le = LabelEncoder()\r\n",
    "le.fit(list(neiss_clf['Location'].unique()))\r\n",
    "neiss_clf['Location_label'] = le.transform(neiss_clf['Location'])\r\n"
   ],
   "outputs": [],
   "metadata": {}
  },
  {
   "cell_type": "code",
   "execution_count": 8,
   "source": [
    "# clean strings\r\n",
    "# get rid of non alpha numeric\r\n",
    "# fix the yof and yom\r\n",
    "neiss_clf['Text'] = neiss_clf['Narrative'].str.replace(r'[^a-zA-Z0-9 ]+', ' ').str.lower()\r\n",
    "neiss_clf['Text'] = neiss_clf['Text'].str.replace('yof', ' yof ')\r\n",
    "neiss_clf['Text'] = neiss_clf['Text'].str.replace('yom', ' yom ')\r\n",
    "neiss_clf['Text'] = neiss_clf['Text'].str.replace('y o f', ' yof ')\r\n",
    "neiss_clf['Text'] = neiss_clf['Text'].str.replace('y o m', ' yom ')\r\n",
    "neiss_clf['Text'] = neiss_clf['Text'].str.replace('yf', ' yof ')\r\n",
    "neiss_clf['Text'] = neiss_clf['Text'].str.replace('ym', ' yom ')\r\n",
    "neiss_clf['Text'] = neiss_clf['Text'].str.replace('yo f', ' yof ')\r\n",
    "neiss_clf['Text'] = neiss_clf['Text'].str.replace('yo m', ' yom ')\r\n",
    "neiss_clf['Text'] = neiss_clf['Text'].str.replace('yr', ' yr ')\r\n",
    "neiss_clf['Text'] = neiss_clf['Text'].str.replace('dx', ' dx ')\r\n",
    "neiss_clf['Text'] = neiss_clf['Text'].str.replace('sx', ' sx ')\r\n",
    "neiss_clf['Text'] = neiss_clf['Text'].str.replace('tx', ' tx ')\r\n",
    "neiss_clf['Text'] = neiss_clf['Text'].str.replace('fx', ' fx ')\r\n",
    "neiss_clf['Text'] = neiss_clf['Text'].str.replace('hx', ' hx ')\r\n",
    "neiss_clf['Text'] = neiss_clf['Text'].str.replace(' wa s', ' was ')\r\n",
    "neiss_clf['Text'] = neiss_clf['Text'].str.replace(' wa ', ' was ')\r\n",
    "\r\n",
    "\r\n",
    "neiss_clf['Text'].head()"
   ],
   "outputs": [
    {
     "output_type": "stream",
     "name": "stderr",
     "text": [
      "<ipython-input-8-d2ca7e906624>:4: FutureWarning: The default value of regex will change from True to False in a future version.\n",
      "  neiss_clf['Text'] = neiss_clf['Narrative'].str.replace(r'[^a-zA-Z0-9 ]+', ' ').str.lower()\n"
     ]
    },
    {
     "output_type": "execute_result",
     "data": {
      "text/plain": [
       "479165     15 yom  pt complaining of injuring forehead at...\n",
       "1642097    33  yom  was using a saw at home when it slipp...\n",
       "1290283    15  yom  wrestling  developed chest pain   dx ...\n",
       "847392       14  yom  playing basketball    dx  ankle sprain\n",
       "1626482    8  yom    scalp laceration   pt was playing at...\n",
       "Name: Text, dtype: object"
      ]
     },
     "metadata": {},
     "execution_count": 8
    }
   ],
   "metadata": {}
  },
  {
   "cell_type": "code",
   "execution_count": 9,
   "source": [
    "#tokenize narrative\r\n",
    "from nltk.tokenize import RegexpTokenizer\r\n",
    "tokenizer = RegexpTokenizer(r'\\w+')\r\n",
    "neiss_clf[\"Tokens\"] = neiss_clf[\"Text\"].apply(tokenizer.tokenize)\r\n"
   ],
   "outputs": [],
   "metadata": {}
  },
  {
   "cell_type": "code",
   "execution_count": 10,
   "source": [
    "from tabulate import tabulate\r\n",
    "\r\n",
    "table =  neiss_clf[612:615]\r\n",
    "header = table.columns\r\n",
    "print(tabulate(table, header, tablefmt=\"pipe\"))"
   ],
   "outputs": [
    {
     "output_type": "stream",
     "name": "stdout",
     "text": [
      "|         | Location          | Narrative                                                                                                                                     |   Location_label | Text                                                                                                                                               | Tokens                                                                                                                                                                                                          |\n",
      "|--------:|:------------------|:----------------------------------------------------------------------------------------------------------------------------------------------|-----------------:|:---------------------------------------------------------------------------------------------------------------------------------------------------|:----------------------------------------------------------------------------------------------------------------------------------------------------------------------------------------------------------------|\n",
      "|   87903 | Home              | 96 YOF FELL OUT OF BED TO FLOOR, ALTERED MENTAL STATUS, UNABLE TO VOICEC/O NO TRAUMATIC INJURY NOTED. DX R/O CVA, ASPIRATION PNEUMONIA        |                0 | 96  yof  fell out of bed to floor  altered mental status  unable to voicec o no traumatic injury noted   dx  r o cva  aspiration pneumonia         | ['96', 'yof', 'fell', 'out', 'of', 'bed', 'to', 'floor', 'altered', 'mental', 'status', 'unable', 'to', 'voicec', 'o', 'no', 'traumatic', 'injury', 'noted', 'dx', 'r', 'o', 'cva', 'aspiration', 'pneumonia']  |\n",
      "| 1786909 | Street or highway | 31 YOM W/O HELMET HIT A CURB WHILE RIDING ELECTRIC SCOOTER & FELL. BAL 229.DX:  FX R MANDIBULAR ALVEOLAR PROCESS, ACUTE ALCOHOL INTOXICATION. |                4 | 31  yom  w o helmet hit a curb while riding electric scooter   fell  bal 229  dx     fx  r mandibular alveolar process  acute alcohol intoxication | ['31', 'yom', 'w', 'o', 'helmet', 'hit', 'a', 'curb', 'while', 'riding', 'electric', 'scooter', 'fell', 'bal', '229', 'dx', 'fx', 'r', 'mandibular', 'alveolar', 'process', 'acute', 'alcohol', 'intoxication'] |\n",
      "|  601003 | Home              | 53 YO MALE FELL DOWN STAIRS. DX SHOULDER DISLOCATION B                                                                                        |                0 | 53  yom ale fell down stairs   dx  shoulder dislocation b                                                                                          | ['53', 'yom', 'ale', 'fell', 'down', 'stairs', 'dx', 'shoulder', 'dislocation', 'b']                                                                                                                            |\n"
     ]
    }
   ],
   "metadata": {}
  },
  {
   "cell_type": "code",
   "execution_count": 11,
   "source": [
    "#take sample to save time fitting model\r\n",
    "sample = neiss_clf.sample(500000)\r\n",
    "sample['Location'].value_counts(normalize=True)"
   ],
   "outputs": [
    {
     "output_type": "execute_result",
     "data": {
      "text/plain": [
       "Home                             0.614104\n",
       "Place of recreation or sports    0.182156\n",
       "Other public property            0.098280\n",
       "School/Daycare                   0.074990\n",
       "Street or highway                0.030470\n",
       "Name: Location, dtype: float64"
      ]
     },
     "metadata": {},
     "execution_count": 11
    }
   ],
   "metadata": {}
  },
  {
   "cell_type": "code",
   "execution_count": 12,
   "source": [
    "#bag of words\r\n",
    "from sklearn.feature_extraction.text import CountVectorizer\r\n",
    "from sklearn.model_selection import train_test_split\r\n",
    "from sklearn.metrics import accuracy_score, f1_score, precision_score, recall_score\r\n",
    "from sklearn.linear_model import SGDClassifier\r\n",
    "from sklearn.pipeline import Pipeline\r\n",
    "    \r\n",
    "\r\n",
    "def bow(token, data=sample):\r\n",
    "    text = token.apply(lambda x: ' '.join(x))\r\n",
    "    list_corpus = text.tolist()\r\n",
    "    list_labels = data['Location_label'].tolist()\r\n",
    "    X_train, X_test, y_train, y_test = train_test_split(list_corpus, list_labels, random_state=42,\r\n",
    "                                                            test_size=0.2)\r\n",
    "    count_vect = CountVectorizer()\r\n",
    "\r\n",
    "    X_train_counts = count_vect.fit_transform(X_train)\r\n",
    "    X_val_counts = count_vect.transform(X_val)\r\n",
    "    return X_train, X_val, y_train, y_val, X_test, y_test, X_train_counts, X_val_counts\r\n",
    "\r\n",
    "X_train, X_val, y_train, y_val, X_test, y_test, X_train_counts, X_val_counts = bow(sample['Tokens'])\r\n",
    "\r\n",
    "clf = SGDClassifier(random_state=42)\r\n",
    "clf.fit(X_train_counts, y_train)\r\n",
    "y_pred = clf.predict(X_val_counts)\r\n",
    "\r\n",
    "def get_metrics(y_test, y_pred):  \r\n",
    "    precision = precision_score(y_test, y_pred, pos_label=None,\r\n",
    "                                    average='weighted')             \r\n",
    "    recall = recall_score(y_test, y_pred, pos_label=None,\r\n",
    "                              average='weighted')\r\n",
    "    f1 = f1_score(y_test, y_pred, pos_label=None, average='weighted')\r\n",
    "    accuracy = accuracy_score(y_test, y_pred)\r\n",
    "    return accuracy, precision, recall, f1\r\n",
    "\r\n",
    "accuracy, precision, recall, f1 = get_metrics(y_val, y_pred)\r\n",
    "print(\"accuracy = %.3f, precision = %.3f, recall = %.3f, f1 = %.3f\" % (accuracy, precision, recall, f1))"
   ],
   "outputs": [
    {
     "output_type": "stream",
     "name": "stdout",
     "text": [
      "accuracy = 0.903, precision = 0.906, recall = 0.903, f1 = 0.898\n"
     ]
    }
   ],
   "metadata": {}
  },
  {
   "cell_type": "code",
   "execution_count": null,
   "source": [],
   "outputs": [],
   "metadata": {}
  }
 ],
 "metadata": {
  "interpreter": {
   "hash": "b4cc8eed66266dd4f738621a6ecbd7063be77e2ff240ac676328e8974c727ea2"
  },
  "kernelspec": {
   "name": "python3",
   "display_name": "Python 3.8.7 64-bit ('.venv': venv)"
  },
  "language_info": {
   "codemirror_mode": {
    "name": "ipython",
    "version": 3
   },
   "file_extension": ".py",
   "mimetype": "text/x-python",
   "name": "python",
   "nbconvert_exporter": "python",
   "pygments_lexer": "ipython3",
   "version": "3.8.7"
  },
  "orig_nbformat": 4
 },
 "nbformat": 4,
 "nbformat_minor": 2
}